{
  "cells": [
    {
      "cell_type": "markdown",
      "source": [
        "**UNIVERSIDAD DE LAS FUERZAS ARMADAS ESPE**\n",
        "\n",
        "**DEPARTAMENTO DE CIENCIAS DE LA COMPUTACIÓN**\n",
        "\n",
        "**SISTEMAS DISTRIBUIDOS**\n",
        "\n",
        "**INTEGRANTES:** Carol Jácome, Steven Oviedo\n",
        "\n",
        "**FECHA:** 20 DE NOVIEMBRE DEL 2024\n",
        "\n",
        "**NRC:** 3877\n",
        "\n",
        "**TEMA:** CONSUMIR EL SERVICIO WEB SOAP DE LA CALCULADORA\n"
      ],
      "metadata": {
        "id": "vQ7lHeFPrOqj"
      }
    },
    {
      "cell_type": "code",
      "execution_count": 3,
      "metadata": {
        "id": "ovpf8pJenPHN",
        "colab": {
          "base_uri": "https://localhost:8080/"
        },
        "outputId": "06618d84-7261-4e4e-d656-c529598e44b7"
      },
      "outputs": [
        {
          "output_type": "stream",
          "name": "stdout",
          "text": [
            "Requirement already satisfied: zeep in /usr/local/lib/python3.10/dist-packages (4.3.1)\n",
            "Requirement already satisfied: attrs>=17.2.0 in /usr/local/lib/python3.10/dist-packages (from zeep) (24.2.0)\n",
            "Requirement already satisfied: isodate>=0.5.4 in /usr/local/lib/python3.10/dist-packages (from zeep) (0.7.2)\n",
            "Requirement already satisfied: lxml>=4.6.0 in /usr/local/lib/python3.10/dist-packages (from zeep) (5.3.0)\n",
            "Requirement already satisfied: platformdirs>=1.4.0 in /usr/local/lib/python3.10/dist-packages (from zeep) (4.3.6)\n",
            "Requirement already satisfied: requests>=2.7.0 in /usr/local/lib/python3.10/dist-packages (from zeep) (2.32.3)\n",
            "Requirement already satisfied: requests-toolbelt>=0.7.1 in /usr/local/lib/python3.10/dist-packages (from zeep) (1.0.0)\n",
            "Requirement already satisfied: requests-file>=1.5.1 in /usr/local/lib/python3.10/dist-packages (from zeep) (2.1.0)\n",
            "Requirement already satisfied: pytz in /usr/local/lib/python3.10/dist-packages (from zeep) (2024.2)\n",
            "Requirement already satisfied: charset-normalizer<4,>=2 in /usr/local/lib/python3.10/dist-packages (from requests>=2.7.0->zeep) (3.4.0)\n",
            "Requirement already satisfied: idna<4,>=2.5 in /usr/local/lib/python3.10/dist-packages (from requests>=2.7.0->zeep) (3.10)\n",
            "Requirement already satisfied: urllib3<3,>=1.21.1 in /usr/local/lib/python3.10/dist-packages (from requests>=2.7.0->zeep) (2.2.3)\n",
            "Requirement already satisfied: certifi>=2017.4.17 in /usr/local/lib/python3.10/dist-packages (from requests>=2.7.0->zeep) (2024.8.30)\n"
          ]
        }
      ],
      "source": [
        "!pip install zeep\n"
      ]
    },
    {
      "cell_type": "code",
      "execution_count": 5,
      "metadata": {
        "colab": {
          "base_uri": "https://localhost:8080/"
        },
        "id": "zOcytoeFneMG",
        "outputId": "6cf62a99-fb3b-48f6-e74b-702cdd26670d"
      },
      "outputs": [
        {
          "output_type": "stream",
          "name": "stdout",
          "text": [
            "Calculadora SOAP\n",
            "Ingresa el primer número entero: ghj\n",
            "Por favor, ingresa un número entero válido.\n",
            "Ingresa el primer número entero:  \n",
            "Por favor, ingresa un número entero válido.\n",
            "Ingresa el primer número entero: 10\n",
            "Ingresa el segundo número entero: 0\n",
            "Resultados de la suma: 10\n",
            "Resultados de la resta: 10\n",
            "Resultados de la multiplicación: 0\n",
            "Error: No se puede dividir entre 0.\n"
          ]
        }
      ],
      "source": [
        "\n",
        "from zeep import Client\n",
        "\n",
        "# URL del WSDL\n",
        "wsdl = 'http://www.dneonline.com/calculator.asmx?WSDL'\n",
        "client = Client(wsdl=wsdl)\n",
        "\n",
        "def get_integer_input(prompt):\n",
        "    \"\"\"Función para obtener un número entero del usuario\"\"\"\n",
        "    while True:\n",
        "        try:\n",
        "            value = int(input(prompt))\n",
        "            return value\n",
        "        except ValueError:\n",
        "            print(\"Por favor, ingresa un número entero válido.\")\n",
        "\n",
        "# Obtener números del usuario\n",
        "print(\"Calculadora SOAP\")\n",
        "num1 = get_integer_input(\"Ingresa el primer número entero: \")\n",
        "num2 = get_integer_input(\"Ingresa el segundo número entero: \")\n",
        "\n",
        "# Operaciones\n",
        "try:\n",
        "    # Suma\n",
        "    result = client.service.Add(intA=num1, intB=num2)\n",
        "    print(\"Resultados de la suma:\", result)\n",
        "\n",
        "    # Resta\n",
        "    result = client.service.Subtract(intA=num1, intB=num2)\n",
        "    print(\"Resultados de la resta:\", result)\n",
        "\n",
        "    # Multiplicación\n",
        "    result = client.service.Multiply(intA=num1, intB=num2)\n",
        "    print(\"Resultados de la multiplicación:\", result)\n",
        "\n",
        "    # División\n",
        "    if num2 != 0:\n",
        "        result = client.service.Divide(intA=num1, intB=num2)\n",
        "        print(\"Resultados de la división:\", result)\n",
        "    else:\n",
        "        print(\"Error: No se puede dividir entre 0.\")\n",
        "\n",
        "except Exception as e:\n",
        "    print(\"Error:\", e)\n"
      ]
    }
  ],
  "metadata": {
    "colab": {
      "provenance": []
    },
    "kernelspec": {
      "display_name": "Python 3",
      "name": "python3"
    },
    "language_info": {
      "name": "python"
    }
  },
  "nbformat": 4,
  "nbformat_minor": 0
}